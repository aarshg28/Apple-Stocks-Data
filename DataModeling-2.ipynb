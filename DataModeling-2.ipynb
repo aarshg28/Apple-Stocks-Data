{
 "cells": [
  {
   "cell_type": "code",
   "execution_count": 58,
   "id": "afa0d47d-7f5f-4d0a-9065-c680a5a20dd8",
   "metadata": {},
   "outputs": [],
   "source": [
    "#!pip install google-cloud"
   ]
  },
  {
   "cell_type": "code",
   "execution_count": 59,
   "id": "02b7a1c1-a36f-4484-8311-f0732be65563",
   "metadata": {},
   "outputs": [],
   "source": [
    "#!pip install db-dtypes"
   ]
  },
  {
   "cell_type": "code",
   "execution_count": 60,
   "id": "a2cf3711-0eed-4e26-b31c-fdddd53c60f1",
   "metadata": {},
   "outputs": [],
   "source": [
    "import matplotlib.pyplot as plt\n",
    "import seaborn as sns\n",
    "import pandas as pd\n",
    "import numpy as np\n",
    "import datetime as dt\n",
    "from google.cloud import bigquery\n",
    "from sklearn.model_selection import train_test_split \n",
    "from sklearn.preprocessing import StandardScaler\n",
    "from sklearn.metrics import mean_squared_error\n",
    "from math import sqrt\n",
    "from sklearn.linear_model import LinearRegression"
   ]
  },
  {
   "cell_type": "code",
   "execution_count": 61,
   "id": "edf07d5d-7ecb-4a83-9a31-7b8f97f58257",
   "metadata": {},
   "outputs": [],
   "source": [
    "client = bigquery.Client()"
   ]
  },
  {
   "cell_type": "code",
   "execution_count": 62,
   "id": "cb54862d-0128-4a2c-987e-587df91bc0be",
   "metadata": {},
   "outputs": [],
   "source": [
    "sql = \"\"\"\n",
    "SELECT *\n",
    "FROM `kbs_stockdata.apple_stockdata`\n",
    "\n",
    "\"\"\"\n",
    "dataset = client.query(sql).to_dataframe()\n"
   ]
  },
  {
   "cell_type": "code",
   "execution_count": 63,
   "id": "4c60bd5a-68f3-496a-a36e-f658ddf1abdb",
   "metadata": {},
   "outputs": [
    {
     "data": {
      "text/html": [
       "<div>\n",
       "<style scoped>\n",
       "    .dataframe tbody tr th:only-of-type {\n",
       "        vertical-align: middle;\n",
       "    }\n",
       "\n",
       "    .dataframe tbody tr th {\n",
       "        vertical-align: top;\n",
       "    }\n",
       "\n",
       "    .dataframe thead th {\n",
       "        text-align: right;\n",
       "    }\n",
       "</style>\n",
       "<table border=\"1\" class=\"dataframe\">\n",
       "  <thead>\n",
       "    <tr style=\"text-align: right;\">\n",
       "      <th></th>\n",
       "      <th>Date</th>\n",
       "      <th>Open</th>\n",
       "      <th>High</th>\n",
       "      <th>Low</th>\n",
       "      <th>Close</th>\n",
       "      <th>AdjClose</th>\n",
       "      <th>Volume</th>\n",
       "    </tr>\n",
       "  </thead>\n",
       "  <tbody>\n",
       "    <tr>\n",
       "      <th>0</th>\n",
       "      <td>2005-12-21</td>\n",
       "      <td>2.592857</td>\n",
       "      <td>2.628929</td>\n",
       "      <td>2.590714</td>\n",
       "      <td>2.625000</td>\n",
       "      <td>2.247721</td>\n",
       "      <td>475736800</td>\n",
       "    </tr>\n",
       "    <tr>\n",
       "      <th>1</th>\n",
       "      <td>2007-04-03</td>\n",
       "      <td>3.362143</td>\n",
       "      <td>3.401071</td>\n",
       "      <td>3.348571</td>\n",
       "      <td>3.375000</td>\n",
       "      <td>2.889926</td>\n",
       "      <td>583934400</td>\n",
       "    </tr>\n",
       "    <tr>\n",
       "      <th>2</th>\n",
       "      <td>2007-07-19</td>\n",
       "      <td>5.010714</td>\n",
       "      <td>5.028929</td>\n",
       "      <td>4.987500</td>\n",
       "      <td>5.000000</td>\n",
       "      <td>4.281374</td>\n",
       "      <td>732891600</td>\n",
       "    </tr>\n",
       "    <tr>\n",
       "      <th>3</th>\n",
       "      <td>2014-10-31</td>\n",
       "      <td>27.002501</td>\n",
       "      <td>27.010000</td>\n",
       "      <td>26.802500</td>\n",
       "      <td>27.000000</td>\n",
       "      <td>24.308453</td>\n",
       "      <td>178557200</td>\n",
       "    </tr>\n",
       "    <tr>\n",
       "      <th>4</th>\n",
       "      <td>2016-08-10</td>\n",
       "      <td>27.177500</td>\n",
       "      <td>27.225000</td>\n",
       "      <td>26.940001</td>\n",
       "      <td>27.000000</td>\n",
       "      <td>25.252613</td>\n",
       "      <td>96034000</td>\n",
       "    </tr>\n",
       "    <tr>\n",
       "      <th>5</th>\n",
       "      <td>2017-01-17</td>\n",
       "      <td>29.584999</td>\n",
       "      <td>30.059999</td>\n",
       "      <td>29.555000</td>\n",
       "      <td>30.000000</td>\n",
       "      <td>28.202526</td>\n",
       "      <td>137759200</td>\n",
       "    </tr>\n",
       "    <tr>\n",
       "      <th>6</th>\n",
       "      <td>2017-01-20</td>\n",
       "      <td>30.112499</td>\n",
       "      <td>30.112499</td>\n",
       "      <td>29.932501</td>\n",
       "      <td>30.000000</td>\n",
       "      <td>28.202526</td>\n",
       "      <td>130391600</td>\n",
       "    </tr>\n",
       "    <tr>\n",
       "      <th>7</th>\n",
       "      <td>2020-09-11</td>\n",
       "      <td>114.570000</td>\n",
       "      <td>115.230003</td>\n",
       "      <td>110.000000</td>\n",
       "      <td>112.000000</td>\n",
       "      <td>110.980667</td>\n",
       "      <td>180860300</td>\n",
       "    </tr>\n",
       "    <tr>\n",
       "      <th>8</th>\n",
       "      <td>1982-05-19</td>\n",
       "      <td>0.063058</td>\n",
       "      <td>0.063058</td>\n",
       "      <td>0.062500</td>\n",
       "      <td>0.062500</td>\n",
       "      <td>0.048853</td>\n",
       "      <td>75286400</td>\n",
       "    </tr>\n",
       "    <tr>\n",
       "      <th>9</th>\n",
       "      <td>1982-05-27</td>\n",
       "      <td>0.063058</td>\n",
       "      <td>0.063058</td>\n",
       "      <td>0.062500</td>\n",
       "      <td>0.062500</td>\n",
       "      <td>0.048853</td>\n",
       "      <td>31248000</td>\n",
       "    </tr>\n",
       "    <tr>\n",
       "      <th>10</th>\n",
       "      <td>1982-05-28</td>\n",
       "      <td>0.062500</td>\n",
       "      <td>0.063058</td>\n",
       "      <td>0.062500</td>\n",
       "      <td>0.062500</td>\n",
       "      <td>0.048853</td>\n",
       "      <td>19196800</td>\n",
       "    </tr>\n",
       "    <tr>\n",
       "      <th>11</th>\n",
       "      <td>1982-06-02</td>\n",
       "      <td>0.062500</td>\n",
       "      <td>0.063058</td>\n",
       "      <td>0.062500</td>\n",
       "      <td>0.062500</td>\n",
       "      <td>0.048853</td>\n",
       "      <td>32905600</td>\n",
       "    </tr>\n",
       "    <tr>\n",
       "      <th>12</th>\n",
       "      <td>1982-04-08</td>\n",
       "      <td>0.078125</td>\n",
       "      <td>0.078683</td>\n",
       "      <td>0.078125</td>\n",
       "      <td>0.078125</td>\n",
       "      <td>0.061066</td>\n",
       "      <td>23990400</td>\n",
       "    </tr>\n",
       "    <tr>\n",
       "      <th>13</th>\n",
       "      <td>1982-09-01</td>\n",
       "      <td>0.078683</td>\n",
       "      <td>0.078683</td>\n",
       "      <td>0.078125</td>\n",
       "      <td>0.078125</td>\n",
       "      <td>0.061066</td>\n",
       "      <td>82566400</td>\n",
       "    </tr>\n",
       "    <tr>\n",
       "      <th>14</th>\n",
       "      <td>1985-06-25</td>\n",
       "      <td>0.078125</td>\n",
       "      <td>0.079799</td>\n",
       "      <td>0.078125</td>\n",
       "      <td>0.078125</td>\n",
       "      <td>0.061066</td>\n",
       "      <td>293910400</td>\n",
       "    </tr>\n",
       "  </tbody>\n",
       "</table>\n",
       "</div>"
      ],
      "text/plain": [
       "          Date        Open        High         Low       Close    AdjClose  \\\n",
       "0   2005-12-21    2.592857    2.628929    2.590714    2.625000    2.247721   \n",
       "1   2007-04-03    3.362143    3.401071    3.348571    3.375000    2.889926   \n",
       "2   2007-07-19    5.010714    5.028929    4.987500    5.000000    4.281374   \n",
       "3   2014-10-31   27.002501   27.010000   26.802500   27.000000   24.308453   \n",
       "4   2016-08-10   27.177500   27.225000   26.940001   27.000000   25.252613   \n",
       "5   2017-01-17   29.584999   30.059999   29.555000   30.000000   28.202526   \n",
       "6   2017-01-20   30.112499   30.112499   29.932501   30.000000   28.202526   \n",
       "7   2020-09-11  114.570000  115.230003  110.000000  112.000000  110.980667   \n",
       "8   1982-05-19    0.063058    0.063058    0.062500    0.062500    0.048853   \n",
       "9   1982-05-27    0.063058    0.063058    0.062500    0.062500    0.048853   \n",
       "10  1982-05-28    0.062500    0.063058    0.062500    0.062500    0.048853   \n",
       "11  1982-06-02    0.062500    0.063058    0.062500    0.062500    0.048853   \n",
       "12  1982-04-08    0.078125    0.078683    0.078125    0.078125    0.061066   \n",
       "13  1982-09-01    0.078683    0.078683    0.078125    0.078125    0.061066   \n",
       "14  1985-06-25    0.078125    0.079799    0.078125    0.078125    0.061066   \n",
       "\n",
       "       Volume  \n",
       "0   475736800  \n",
       "1   583934400  \n",
       "2   732891600  \n",
       "3   178557200  \n",
       "4    96034000  \n",
       "5   137759200  \n",
       "6   130391600  \n",
       "7   180860300  \n",
       "8    75286400  \n",
       "9    31248000  \n",
       "10   19196800  \n",
       "11   32905600  \n",
       "12   23990400  \n",
       "13   82566400  \n",
       "14  293910400  "
      ]
     },
     "execution_count": 63,
     "metadata": {},
     "output_type": "execute_result"
    }
   ],
   "source": [
    "dataset.head(15)"
   ]
  },
  {
   "cell_type": "code",
   "execution_count": 64,
   "id": "ada3440c-3148-4d00-88ed-a53bde1f1a39",
   "metadata": {},
   "outputs": [
    {
     "data": {
      "text/html": [
       "<div>\n",
       "<style scoped>\n",
       "    .dataframe tbody tr th:only-of-type {\n",
       "        vertical-align: middle;\n",
       "    }\n",
       "\n",
       "    .dataframe tbody tr th {\n",
       "        vertical-align: top;\n",
       "    }\n",
       "\n",
       "    .dataframe thead th {\n",
       "        text-align: right;\n",
       "    }\n",
       "</style>\n",
       "<table border=\"1\" class=\"dataframe\">\n",
       "  <thead>\n",
       "    <tr style=\"text-align: right;\">\n",
       "      <th></th>\n",
       "      <th>Open</th>\n",
       "      <th>High</th>\n",
       "      <th>Low</th>\n",
       "      <th>Close</th>\n",
       "      <th>AdjClose</th>\n",
       "      <th>Volume</th>\n",
       "    </tr>\n",
       "  </thead>\n",
       "  <tbody>\n",
       "    <tr>\n",
       "      <th>count</th>\n",
       "      <td>10409.000000</td>\n",
       "      <td>10409.000000</td>\n",
       "      <td>10409.000000</td>\n",
       "      <td>10409.000000</td>\n",
       "      <td>10409.000000</td>\n",
       "      <td>1.040900e+04</td>\n",
       "    </tr>\n",
       "    <tr>\n",
       "      <th>mean</th>\n",
       "      <td>13.959910</td>\n",
       "      <td>14.111936</td>\n",
       "      <td>13.809163</td>\n",
       "      <td>13.966757</td>\n",
       "      <td>13.350337</td>\n",
       "      <td>3.321778e+08</td>\n",
       "    </tr>\n",
       "    <tr>\n",
       "      <th>std</th>\n",
       "      <td>30.169244</td>\n",
       "      <td>30.514878</td>\n",
       "      <td>29.835055</td>\n",
       "      <td>30.191696</td>\n",
       "      <td>29.911132</td>\n",
       "      <td>3.393344e+08</td>\n",
       "    </tr>\n",
       "    <tr>\n",
       "      <th>min</th>\n",
       "      <td>0.049665</td>\n",
       "      <td>0.049665</td>\n",
       "      <td>0.049107</td>\n",
       "      <td>0.049107</td>\n",
       "      <td>0.038384</td>\n",
       "      <td>0.000000e+00</td>\n",
       "    </tr>\n",
       "    <tr>\n",
       "      <th>25%</th>\n",
       "      <td>0.281964</td>\n",
       "      <td>0.287946</td>\n",
       "      <td>0.274554</td>\n",
       "      <td>0.281250</td>\n",
       "      <td>0.234799</td>\n",
       "      <td>1.247604e+08</td>\n",
       "    </tr>\n",
       "    <tr>\n",
       "      <th>50%</th>\n",
       "      <td>0.468750</td>\n",
       "      <td>0.477679</td>\n",
       "      <td>0.459821</td>\n",
       "      <td>0.468750</td>\n",
       "      <td>0.386853</td>\n",
       "      <td>2.199680e+08</td>\n",
       "    </tr>\n",
       "    <tr>\n",
       "      <th>75%</th>\n",
       "      <td>14.217857</td>\n",
       "      <td>14.364286</td>\n",
       "      <td>14.043571</td>\n",
       "      <td>14.206071</td>\n",
       "      <td>12.188149</td>\n",
       "      <td>4.126108e+08</td>\n",
       "    </tr>\n",
       "    <tr>\n",
       "      <th>max</th>\n",
       "      <td>182.630005</td>\n",
       "      <td>182.940002</td>\n",
       "      <td>179.119995</td>\n",
       "      <td>182.009995</td>\n",
       "      <td>181.778397</td>\n",
       "      <td>7.421641e+09</td>\n",
       "    </tr>\n",
       "  </tbody>\n",
       "</table>\n",
       "</div>"
      ],
      "text/plain": [
       "               Open          High           Low         Close      AdjClose  \\\n",
       "count  10409.000000  10409.000000  10409.000000  10409.000000  10409.000000   \n",
       "mean      13.959910     14.111936     13.809163     13.966757     13.350337   \n",
       "std       30.169244     30.514878     29.835055     30.191696     29.911132   \n",
       "min        0.049665      0.049665      0.049107      0.049107      0.038384   \n",
       "25%        0.281964      0.287946      0.274554      0.281250      0.234799   \n",
       "50%        0.468750      0.477679      0.459821      0.468750      0.386853   \n",
       "75%       14.217857     14.364286     14.043571     14.206071     12.188149   \n",
       "max      182.630005    182.940002    179.119995    182.009995    181.778397   \n",
       "\n",
       "             Volume  \n",
       "count  1.040900e+04  \n",
       "mean   3.321778e+08  \n",
       "std    3.393344e+08  \n",
       "min    0.000000e+00  \n",
       "25%    1.247604e+08  \n",
       "50%    2.199680e+08  \n",
       "75%    4.126108e+08  \n",
       "max    7.421641e+09  "
      ]
     },
     "execution_count": 64,
     "metadata": {},
     "output_type": "execute_result"
    }
   ],
   "source": [
    "dataset.describe()"
   ]
  },
  {
   "cell_type": "code",
   "execution_count": 65,
   "id": "dfff5695-84ff-4e5d-9475-b508a07605c8",
   "metadata": {},
   "outputs": [
    {
     "name": "stdout",
     "output_type": "stream",
     "text": [
      "<class 'pandas.core.frame.DataFrame'>\n",
      "RangeIndex: 10409 entries, 0 to 10408\n",
      "Data columns (total 7 columns):\n",
      " #   Column    Non-Null Count  Dtype  \n",
      "---  ------    --------------  -----  \n",
      " 0   Date      10409 non-null  dbdate \n",
      " 1   Open      10409 non-null  float64\n",
      " 2   High      10409 non-null  float64\n",
      " 3   Low       10409 non-null  float64\n",
      " 4   Close     10409 non-null  float64\n",
      " 5   AdjClose  10409 non-null  float64\n",
      " 6   Volume    10409 non-null  Int64  \n",
      "dtypes: Int64(1), dbdate(1), float64(5)\n",
      "memory usage: 579.5 KB\n"
     ]
    }
   ],
   "source": [
    "dataset.info()"
   ]
  },
  {
   "cell_type": "code",
   "execution_count": 66,
   "id": "86c5035f-0e1c-40f3-b6f2-216eb946b03b",
   "metadata": {},
   "outputs": [
    {
     "data": {
      "text/plain": [
       "Date        0\n",
       "Open        0\n",
       "High        0\n",
       "Low         0\n",
       "Close       0\n",
       "AdjClose    0\n",
       "Volume      0\n",
       "dtype: int64"
      ]
     },
     "execution_count": 66,
     "metadata": {},
     "output_type": "execute_result"
    }
   ],
   "source": [
    "dataset.isnull().sum()"
   ]
  },
  {
   "cell_type": "code",
   "execution_count": 67,
   "id": "20c3d95a-a2d0-4203-9d39-4b092608fdef",
   "metadata": {},
   "outputs": [
    {
     "data": {
      "text/plain": [
       "0        0.038215\n",
       "1        0.052500\n",
       "2        0.041429\n",
       "3        0.207500\n",
       "4        0.284999\n",
       "           ...   \n",
       "10404    0.023437\n",
       "10405    0.007813\n",
       "10406    0.011300\n",
       "10407    0.004465\n",
       "10408    0.007812\n",
       "Name: Diff, Length: 10409, dtype: float64"
      ]
     },
     "execution_count": 67,
     "metadata": {},
     "output_type": "execute_result"
    }
   ],
   "source": [
    "# high value minus low value for daily stock value\n",
    "dataset['Diff'] = dataset['High'] - dataset['Low']\n",
    "dataset['Diff']"
   ]
  },
  {
   "cell_type": "code",
   "execution_count": 68,
   "id": "e815e230-6fb6-4c04-be0d-9b0748e1c391",
   "metadata": {},
   "outputs": [
    {
     "data": {
      "text/plain": [
       "<AxesSubplot:>"
      ]
     },
     "execution_count": 68,
     "metadata": {},
     "output_type": "execute_result"
    },
    {
     "data": {
      "image/png": "[encoded data removed]",
      "text/plain": [
       "<Figure size 1440x1080 with 1 Axes>"
      ]
     },
     "metadata": {
      "needs_background": "light"
     },
     "output_type": "display_data"
    }
   ],
   "source": [
    "dataset['Diff'].plot(legend=True, figsize=(20,15))"
   ]
  },
  {
   "cell_type": "code",
   "execution_count": 69,
   "id": "a542ccb5-9371-4d3e-84ef-daa54a71e320",
   "metadata": {},
   "outputs": [
    {
     "data": {
      "text/plain": [
       "0        0.000000\n",
       "1        0.285714\n",
       "2        0.481481\n",
       "3        4.400000\n",
       "4        0.000000\n",
       "           ...   \n",
       "10404    0.079320\n",
       "10405    0.073491\n",
       "10406    0.068460\n",
       "10407    0.000000\n",
       "10408    0.000000\n",
       "Name: Daily_Return, Length: 10409, dtype: float64"
      ]
     },
     "execution_count": 69,
     "metadata": {},
     "output_type": "execute_result"
    }
   ],
   "source": [
    "# We'll use pct_change to find the percent change for each day\n",
    "dataset['Daily_Return'] = dataset['Close'].pct_change()\n",
    "\n",
    "dataset.at[0,'Daily_Return']=0.0\n",
    "dataset['Daily_Return']"
   ]
  },
  {
   "cell_type": "code",
   "execution_count": 70,
   "id": "b72d3643-4ae3-4ed6-a70a-82bcba6dc7aa",
   "metadata": {},
   "outputs": [
    {
     "data": {
      "text/plain": [
       "<AxesSubplot:>"
      ]
     },
     "execution_count": 70,
     "metadata": {},
     "output_type": "execute_result"
    },
    {
     "data": {
      "image/png": "[encoded data removed]",
      "text/plain": [
       "<Figure size 1440x1008 with 1 Axes>"
      ]
     },
     "metadata": {
      "needs_background": "light"
     },
     "output_type": "display_data"
    }
   ],
   "source": [
    "dataset['Daily_Return'].plot(figsize=(20,14), legend=True, linestyle='--', marker='o')"
   ]
  },
  {
   "cell_type": "code",
   "execution_count": null,
   "id": "c87edb6e-7eca-4941-8e9d-a12eb812e0b3",
   "metadata": {},
   "outputs": [],
   "source": []
  },
  {
   "cell_type": "code",
   "execution_count": 71,
   "id": "be4fc320-5227-4b3c-9dfd-e4f208cd1c34",
   "metadata": {},
   "outputs": [
    {
     "data": {
      "text/html": [
       "<div>\n",
       "<style scoped>\n",
       "    .dataframe tbody tr th:only-of-type {\n",
       "        vertical-align: middle;\n",
       "    }\n",
       "\n",
       "    .dataframe tbody tr th {\n",
       "        vertical-align: top;\n",
       "    }\n",
       "\n",
       "    .dataframe thead th {\n",
       "        text-align: right;\n",
       "    }\n",
       "</style>\n",
       "<table border=\"1\" class=\"dataframe\">\n",
       "  <thead>\n",
       "    <tr style=\"text-align: right;\">\n",
       "      <th></th>\n",
       "      <th>Open</th>\n",
       "      <th>Close</th>\n",
       "      <th>Low</th>\n",
       "      <th>AdjClose</th>\n",
       "      <th>Daily_Return</th>\n",
       "    </tr>\n",
       "  </thead>\n",
       "  <tbody>\n",
       "    <tr>\n",
       "      <th>0</th>\n",
       "      <td>2.592857</td>\n",
       "      <td>2.625</td>\n",
       "      <td>2.590714</td>\n",
       "      <td>2.247721</td>\n",
       "      <td>0.000000</td>\n",
       "    </tr>\n",
       "    <tr>\n",
       "      <th>1</th>\n",
       "      <td>3.362143</td>\n",
       "      <td>3.375</td>\n",
       "      <td>3.348571</td>\n",
       "      <td>2.889926</td>\n",
       "      <td>0.285714</td>\n",
       "    </tr>\n",
       "    <tr>\n",
       "      <th>2</th>\n",
       "      <td>5.010714</td>\n",
       "      <td>5.000</td>\n",
       "      <td>4.987500</td>\n",
       "      <td>4.281374</td>\n",
       "      <td>0.481481</td>\n",
       "    </tr>\n",
       "    <tr>\n",
       "      <th>3</th>\n",
       "      <td>27.002501</td>\n",
       "      <td>27.000</td>\n",
       "      <td>26.802500</td>\n",
       "      <td>24.308453</td>\n",
       "      <td>4.400000</td>\n",
       "    </tr>\n",
       "    <tr>\n",
       "      <th>4</th>\n",
       "      <td>27.177500</td>\n",
       "      <td>27.000</td>\n",
       "      <td>26.940001</td>\n",
       "      <td>25.252613</td>\n",
       "      <td>0.000000</td>\n",
       "    </tr>\n",
       "  </tbody>\n",
       "</table>\n",
       "</div>"
      ],
      "text/plain": [
       "        Open   Close        Low   AdjClose  Daily_Return\n",
       "0   2.592857   2.625   2.590714   2.247721      0.000000\n",
       "1   3.362143   3.375   3.348571   2.889926      0.285714\n",
       "2   5.010714   5.000   4.987500   4.281374      0.481481\n",
       "3  27.002501  27.000  26.802500  24.308453      4.400000\n",
       "4  27.177500  27.000  26.940001  25.252613      0.000000"
      ]
     },
     "execution_count": 71,
     "metadata": {},
     "output_type": "execute_result"
    }
   ],
   "source": [
    "#Data Preparation \n",
    "x = dataset[['Open','Close','Low','AdjClose','Daily_Return']]\n",
    "y = dataset['High']\n",
    "x.head()"
   ]
  },
  {
   "cell_type": "code",
   "execution_count": 72,
   "id": "10f5ccd0-91e4-4f13-afbe-388565c6c0d7",
   "metadata": {},
   "outputs": [],
   "source": [
    "# Split into test and training sets\n",
    "test_size = 0.33\n",
    "seed = 7\n",
    "x_train, x_test, y_train, y_test =  train_test_split(x, y, test_size=test_size, random_state=seed)"
   ]
  },
  {
   "cell_type": "code",
   "execution_count": 73,
   "id": "6bfa60bc-afbf-448b-a0e4-8c9a8a6a5453",
   "metadata": {},
   "outputs": [
    {
     "data": {
      "text/html": [
       "<div>\n",
       "<style scoped>\n",
       "    .dataframe tbody tr th:only-of-type {\n",
       "        vertical-align: middle;\n",
       "    }\n",
       "\n",
       "    .dataframe tbody tr th {\n",
       "        vertical-align: top;\n",
       "    }\n",
       "\n",
       "    .dataframe thead th {\n",
       "        text-align: right;\n",
       "    }\n",
       "</style>\n",
       "<table border=\"1\" class=\"dataframe\">\n",
       "  <thead>\n",
       "    <tr style=\"text-align: right;\">\n",
       "      <th></th>\n",
       "      <th>Open</th>\n",
       "      <th>Close</th>\n",
       "      <th>Low</th>\n",
       "      <th>AdjClose</th>\n",
       "      <th>Daily_Return</th>\n",
       "    </tr>\n",
       "  </thead>\n",
       "  <tbody>\n",
       "    <tr>\n",
       "      <th>145</th>\n",
       "      <td>0.293527</td>\n",
       "      <td>0.296875</td>\n",
       "      <td>0.293527</td>\n",
       "      <td>0.249717</td>\n",
       "      <td>0.000000</td>\n",
       "    </tr>\n",
       "    <tr>\n",
       "      <th>4989</th>\n",
       "      <td>0.204241</td>\n",
       "      <td>0.202009</td>\n",
       "      <td>0.199777</td>\n",
       "      <td>0.172975</td>\n",
       "      <td>0.000000</td>\n",
       "    </tr>\n",
       "    <tr>\n",
       "      <th>2537</th>\n",
       "      <td>2.763929</td>\n",
       "      <td>2.650000</td>\n",
       "      <td>2.616071</td>\n",
       "      <td>2.269127</td>\n",
       "      <td>1.277603</td>\n",
       "    </tr>\n",
       "    <tr>\n",
       "      <th>7048</th>\n",
       "      <td>0.381696</td>\n",
       "      <td>0.381696</td>\n",
       "      <td>0.379464</td>\n",
       "      <td>0.301031</td>\n",
       "      <td>0.000000</td>\n",
       "    </tr>\n",
       "    <tr>\n",
       "      <th>6917</th>\n",
       "      <td>0.217634</td>\n",
       "      <td>0.222098</td>\n",
       "      <td>0.215402</td>\n",
       "      <td>0.190177</td>\n",
       "      <td>0.000000</td>\n",
       "    </tr>\n",
       "    <tr>\n",
       "      <th>...</th>\n",
       "      <td>...</td>\n",
       "      <td>...</td>\n",
       "      <td>...</td>\n",
       "      <td>...</td>\n",
       "      <td>...</td>\n",
       "    </tr>\n",
       "    <tr>\n",
       "      <th>919</th>\n",
       "      <td>0.254286</td>\n",
       "      <td>0.260357</td>\n",
       "      <td>0.252857</td>\n",
       "      <td>0.222937</td>\n",
       "      <td>0.000000</td>\n",
       "    </tr>\n",
       "    <tr>\n",
       "      <th>4307</th>\n",
       "      <td>0.305804</td>\n",
       "      <td>0.302455</td>\n",
       "      <td>0.301339</td>\n",
       "      <td>0.240278</td>\n",
       "      <td>0.000000</td>\n",
       "    </tr>\n",
       "    <tr>\n",
       "      <th>5699</th>\n",
       "      <td>0.360893</td>\n",
       "      <td>0.355179</td>\n",
       "      <td>0.355179</td>\n",
       "      <td>0.304131</td>\n",
       "      <td>0.096472</td>\n",
       "    </tr>\n",
       "    <tr>\n",
       "      <th>537</th>\n",
       "      <td>0.149554</td>\n",
       "      <td>0.146763</td>\n",
       "      <td>0.146763</td>\n",
       "      <td>0.114717</td>\n",
       "      <td>0.000000</td>\n",
       "    </tr>\n",
       "    <tr>\n",
       "      <th>9412</th>\n",
       "      <td>0.085379</td>\n",
       "      <td>0.086496</td>\n",
       "      <td>0.084821</td>\n",
       "      <td>0.067610</td>\n",
       "      <td>0.000000</td>\n",
       "    </tr>\n",
       "  </tbody>\n",
       "</table>\n",
       "<p>6974 rows × 5 columns</p>\n",
       "</div>"
      ],
      "text/plain": [
       "          Open     Close       Low  AdjClose  Daily_Return\n",
       "145   0.293527  0.296875  0.293527  0.249717      0.000000\n",
       "4989  0.204241  0.202009  0.199777  0.172975      0.000000\n",
       "2537  2.763929  2.650000  2.616071  2.269127      1.277603\n",
       "7048  0.381696  0.381696  0.379464  0.301031      0.000000\n",
       "6917  0.217634  0.222098  0.215402  0.190177      0.000000\n",
       "...        ...       ...       ...       ...           ...\n",
       "919   0.254286  0.260357  0.252857  0.222937      0.000000\n",
       "4307  0.305804  0.302455  0.301339  0.240278      0.000000\n",
       "5699  0.360893  0.355179  0.355179  0.304131      0.096472\n",
       "537   0.149554  0.146763  0.146763  0.114717      0.000000\n",
       "9412  0.085379  0.086496  0.084821  0.067610      0.000000\n",
       "\n",
       "[6974 rows x 5 columns]"
      ]
     },
     "execution_count": 73,
     "metadata": {},
     "output_type": "execute_result"
    }
   ],
   "source": [
    "x_train"
   ]
  },
  {
   "cell_type": "code",
   "execution_count": 74,
   "id": "7bfe7230-5385-4d70-8a73-e7cc7c65b274",
   "metadata": {},
   "outputs": [
    {
     "data": {
      "text/html": [
       "<div>\n",
       "<style scoped>\n",
       "    .dataframe tbody tr th:only-of-type {\n",
       "        vertical-align: middle;\n",
       "    }\n",
       "\n",
       "    .dataframe tbody tr th {\n",
       "        vertical-align: top;\n",
       "    }\n",
       "\n",
       "    .dataframe thead th {\n",
       "        text-align: right;\n",
       "    }\n",
       "</style>\n",
       "<table border=\"1\" class=\"dataframe\">\n",
       "  <thead>\n",
       "    <tr style=\"text-align: right;\">\n",
       "      <th></th>\n",
       "      <th>Open</th>\n",
       "      <th>Close</th>\n",
       "      <th>Low</th>\n",
       "      <th>AdjClose</th>\n",
       "      <th>Daily_Return</th>\n",
       "    </tr>\n",
       "  </thead>\n",
       "  <tbody>\n",
       "    <tr>\n",
       "      <th>3508</th>\n",
       "      <td>0.310357</td>\n",
       "      <td>0.314286</td>\n",
       "      <td>0.304643</td>\n",
       "      <td>0.269115</td>\n",
       "      <td>0.248227</td>\n",
       "    </tr>\n",
       "    <tr>\n",
       "      <th>5421</th>\n",
       "      <td>24.212500</td>\n",
       "      <td>24.417500</td>\n",
       "      <td>24.160000</td>\n",
       "      <td>21.874586</td>\n",
       "      <td>-0.036975</td>\n",
       "    </tr>\n",
       "    <tr>\n",
       "      <th>4277</th>\n",
       "      <td>0.142857</td>\n",
       "      <td>0.143415</td>\n",
       "      <td>0.142857</td>\n",
       "      <td>0.112100</td>\n",
       "      <td>0.000000</td>\n",
       "    </tr>\n",
       "    <tr>\n",
       "      <th>8677</th>\n",
       "      <td>0.243304</td>\n",
       "      <td>0.245536</td>\n",
       "      <td>0.243304</td>\n",
       "      <td>0.210246</td>\n",
       "      <td>0.000000</td>\n",
       "    </tr>\n",
       "    <tr>\n",
       "      <th>3885</th>\n",
       "      <td>0.071987</td>\n",
       "      <td>0.070313</td>\n",
       "      <td>0.070313</td>\n",
       "      <td>0.054960</td>\n",
       "      <td>0.000000</td>\n",
       "    </tr>\n",
       "    <tr>\n",
       "      <th>...</th>\n",
       "      <td>...</td>\n",
       "      <td>...</td>\n",
       "      <td>...</td>\n",
       "      <td>...</td>\n",
       "      <td>...</td>\n",
       "    </tr>\n",
       "    <tr>\n",
       "      <th>3675</th>\n",
       "      <td>39.062500</td>\n",
       "      <td>38.669998</td>\n",
       "      <td>38.527500</td>\n",
       "      <td>37.492191</td>\n",
       "      <td>0.115374</td>\n",
       "    </tr>\n",
       "    <tr>\n",
       "      <th>3750</th>\n",
       "      <td>161.119995</td>\n",
       "      <td>161.410004</td>\n",
       "      <td>159.059998</td>\n",
       "      <td>161.204620</td>\n",
       "      <td>0.247276</td>\n",
       "    </tr>\n",
       "    <tr>\n",
       "      <th>7169</th>\n",
       "      <td>1.308214</td>\n",
       "      <td>1.318571</td>\n",
       "      <td>1.306071</td>\n",
       "      <td>1.129059</td>\n",
       "      <td>-0.255796</td>\n",
       "    </tr>\n",
       "    <tr>\n",
       "      <th>10135</th>\n",
       "      <td>0.563036</td>\n",
       "      <td>0.548214</td>\n",
       "      <td>0.544286</td>\n",
       "      <td>0.469422</td>\n",
       "      <td>0.273859</td>\n",
       "    </tr>\n",
       "    <tr>\n",
       "      <th>3626</th>\n",
       "      <td>14.274643</td>\n",
       "      <td>14.404643</td>\n",
       "      <td>14.267500</td>\n",
       "      <td>12.334327</td>\n",
       "      <td>0.617655</td>\n",
       "    </tr>\n",
       "  </tbody>\n",
       "</table>\n",
       "<p>3435 rows × 5 columns</p>\n",
       "</div>"
      ],
      "text/plain": [
       "             Open       Close         Low    AdjClose  Daily_Return\n",
       "3508     0.310357    0.314286    0.304643    0.269115      0.248227\n",
       "5421    24.212500   24.417500   24.160000   21.874586     -0.036975\n",
       "4277     0.142857    0.143415    0.142857    0.112100      0.000000\n",
       "8677     0.243304    0.245536    0.243304    0.210246      0.000000\n",
       "3885     0.071987    0.070313    0.070313    0.054960      0.000000\n",
       "...           ...         ...         ...         ...           ...\n",
       "3675    39.062500   38.669998   38.527500   37.492191      0.115374\n",
       "3750   161.119995  161.410004  159.059998  161.204620      0.247276\n",
       "7169     1.308214    1.318571    1.306071    1.129059     -0.255796\n",
       "10135    0.563036    0.548214    0.544286    0.469422      0.273859\n",
       "3626    14.274643   14.404643   14.267500   12.334327      0.617655\n",
       "\n",
       "[3435 rows x 5 columns]"
      ]
     },
     "execution_count": 74,
     "metadata": {},
     "output_type": "execute_result"
    }
   ],
   "source": [
    "x_test"
   ]
  },
  {
   "cell_type": "code",
   "execution_count": 75,
   "id": "a77c670e-2141-4a6c-adc7-17e77648797e",
   "metadata": {},
   "outputs": [
    {
     "data": {
      "text/plain": [
       "145     0.297991\n",
       "4989    0.204241\n",
       "2537    2.767857\n",
       "7048    0.386161\n",
       "6917    0.222098\n",
       "          ...   \n",
       "919     0.262321\n",
       "4307    0.310268\n",
       "5699    0.365179\n",
       "537     0.150112\n",
       "9412    0.087054\n",
       "Name: High, Length: 6974, dtype: float64"
      ]
     },
     "execution_count": 75,
     "metadata": {},
     "output_type": "execute_result"
    }
   ],
   "source": [
    "y_train"
   ]
  },
  {
   "cell_type": "code",
   "execution_count": 76,
   "id": "9f82573d-8fb5-403a-b7f3-e9b94dae7b10",
   "metadata": {},
   "outputs": [
    {
     "data": {
      "text/plain": [
       "3508       0.321429\n",
       "5421      24.459999\n",
       "4277       0.149554\n",
       "8677       0.252232\n",
       "3885       0.071987\n",
       "            ...    \n",
       "3675      39.532501\n",
       "3750     161.800003\n",
       "7169       1.330357\n",
       "10135      0.566964\n",
       "3626      14.413929\n",
       "Name: High, Length: 3435, dtype: float64"
      ]
     },
     "execution_count": 76,
     "metadata": {},
     "output_type": "execute_result"
    }
   ],
   "source": [
    "y_test"
   ]
  },
  {
   "cell_type": "code",
   "execution_count": 77,
   "id": "ca20e599-727e-4bbc-b5a9-dbcc17a527e5",
   "metadata": {},
   "outputs": [],
   "source": [
    "# Create Regression Model\n",
    "# Use Linear Regression Model to train our data\n",
    "model = LinearRegression()"
   ]
  },
  {
   "cell_type": "code",
   "execution_count": 78,
   "id": "e2b0b015-bc80-4c22-9225-f1ee8369fcf7",
   "metadata": {},
   "outputs": [
    {
     "data": {
      "text/plain": [
       "LinearRegression()"
      ]
     },
     "execution_count": 78,
     "metadata": {},
     "output_type": "execute_result"
    }
   ],
   "source": [
    "# Train the model\n",
    "model.fit(x_train, y_train)"
   ]
  },
  {
   "cell_type": "code",
   "execution_count": 79,
   "id": "0b2be228-5fe7-4efd-a028-827adb029e0f",
   "metadata": {},
   "outputs": [],
   "source": [
    "# Use model to make predictions\n",
    "y_pred = model.predict(x_test)"
   ]
  },
  {
   "cell_type": "code",
   "execution_count": 80,
   "id": "b3de0d3e-bcb7-4ac2-aca3-e33f0ef91abe",
   "metadata": {},
   "outputs": [
    {
     "data": {
      "text/plain": [
       "array([ 0.32273482, 24.48850614,  0.14981593, ...,  1.32682937,\n",
       "        0.56927287, 14.42689041])"
      ]
     },
     "execution_count": 80,
     "metadata": {},
     "output_type": "execute_result"
    }
   ],
   "source": [
    "y_pred"
   ]
  },
  {
   "cell_type": "code",
   "execution_count": null,
   "id": "df3afd21-4315-4fc6-926c-30efadf283a9",
   "metadata": {},
   "outputs": [],
   "source": [
    "\n"
   ]
  },
  {
   "cell_type": "code",
   "execution_count": null,
   "id": "6cb39ed2-34b3-4166-a562-f7aee477f826",
   "metadata": {},
   "outputs": [],
   "source": []
  },
  {
   "cell_type": "code",
   "execution_count": 81,
   "id": "ca8a8708-f8f1-4d43-9ae3-0048649b1ccd",
   "metadata": {},
   "outputs": [
    {
     "data": {
      "text/plain": [
       "0.9999456662533939"
      ]
     },
     "execution_count": 81,
     "metadata": {},
     "output_type": "execute_result"
    }
   ],
   "source": [
    "model.score(x_test, y_test)"
   ]
  },
  {
   "cell_type": "code",
   "execution_count": 82,
   "id": "d3084ffc-0a52-41e7-8898-91f61e9da9c7",
   "metadata": {},
   "outputs": [],
   "source": [
    "#The Mean Squared Error (MSE) or Mean Squared Deviation (MSD) of an estimator measures the average of error squares i.e. \n",
    "#the average squared difference between the estimated values and true value.\n",
    "rms = sqrt(mean_squared_error(y_test, y_pred))"
   ]
  },
  {
   "cell_type": "code",
   "execution_count": 83,
   "id": "f1478e7a-9d68-4b0b-9784-ed151a84948d",
   "metadata": {},
   "outputs": [
    {
     "data": {
      "text/plain": [
       "0.22616994013340688"
      ]
     },
     "execution_count": 83,
     "metadata": {},
     "output_type": "execute_result"
    }
   ],
   "source": [
    "rms"
   ]
  },
  {
   "cell_type": "code",
   "execution_count": 84,
   "id": "01bead64-dc66-4314-b537-304e79fc26ae",
   "metadata": {},
   "outputs": [],
   "source": [
    "# Result\n",
    "# create new data frame\n",
    "df = x_test.copy()"
   ]
  },
  {
   "cell_type": "code",
   "execution_count": 85,
   "id": "016becdf-4eac-49a2-a5fb-aa527310170d",
   "metadata": {},
   "outputs": [
    {
     "data": {
      "text/html": [
       "<div>\n",
       "<style scoped>\n",
       "    .dataframe tbody tr th:only-of-type {\n",
       "        vertical-align: middle;\n",
       "    }\n",
       "\n",
       "    .dataframe tbody tr th {\n",
       "        vertical-align: top;\n",
       "    }\n",
       "\n",
       "    .dataframe thead th {\n",
       "        text-align: right;\n",
       "    }\n",
       "</style>\n",
       "<table border=\"1\" class=\"dataframe\">\n",
       "  <thead>\n",
       "    <tr style=\"text-align: right;\">\n",
       "      <th></th>\n",
       "      <th>Open</th>\n",
       "      <th>Close</th>\n",
       "      <th>Low</th>\n",
       "      <th>AdjClose</th>\n",
       "      <th>Daily_Return</th>\n",
       "      <th>Actual_High</th>\n",
       "      <th>Predicted_High</th>\n",
       "    </tr>\n",
       "  </thead>\n",
       "  <tbody>\n",
       "    <tr>\n",
       "      <th>3508</th>\n",
       "      <td>0.310357</td>\n",
       "      <td>0.314286</td>\n",
       "      <td>0.304643</td>\n",
       "      <td>0.269115</td>\n",
       "      <td>0.248227</td>\n",
       "      <td>0.321429</td>\n",
       "      <td>0.322735</td>\n",
       "    </tr>\n",
       "    <tr>\n",
       "      <th>5421</th>\n",
       "      <td>24.212500</td>\n",
       "      <td>24.417500</td>\n",
       "      <td>24.160000</td>\n",
       "      <td>21.874586</td>\n",
       "      <td>-0.036975</td>\n",
       "      <td>24.459999</td>\n",
       "      <td>24.488506</td>\n",
       "    </tr>\n",
       "    <tr>\n",
       "      <th>4277</th>\n",
       "      <td>0.142857</td>\n",
       "      <td>0.143415</td>\n",
       "      <td>0.142857</td>\n",
       "      <td>0.112100</td>\n",
       "      <td>0.000000</td>\n",
       "      <td>0.149554</td>\n",
       "      <td>0.149816</td>\n",
       "    </tr>\n",
       "    <tr>\n",
       "      <th>8677</th>\n",
       "      <td>0.243304</td>\n",
       "      <td>0.245536</td>\n",
       "      <td>0.243304</td>\n",
       "      <td>0.210246</td>\n",
       "      <td>0.000000</td>\n",
       "      <td>0.252232</td>\n",
       "      <td>0.251960</td>\n",
       "    </tr>\n",
       "    <tr>\n",
       "      <th>3885</th>\n",
       "      <td>0.071987</td>\n",
       "      <td>0.070313</td>\n",
       "      <td>0.070313</td>\n",
       "      <td>0.054960</td>\n",
       "      <td>0.000000</td>\n",
       "      <td>0.071987</td>\n",
       "      <td>0.077931</td>\n",
       "    </tr>\n",
       "    <tr>\n",
       "      <th>...</th>\n",
       "      <td>...</td>\n",
       "      <td>...</td>\n",
       "      <td>...</td>\n",
       "      <td>...</td>\n",
       "      <td>...</td>\n",
       "      <td>...</td>\n",
       "      <td>...</td>\n",
       "    </tr>\n",
       "    <tr>\n",
       "      <th>3675</th>\n",
       "      <td>39.062500</td>\n",
       "      <td>38.669998</td>\n",
       "      <td>38.527500</td>\n",
       "      <td>37.492191</td>\n",
       "      <td>0.115374</td>\n",
       "      <td>39.532501</td>\n",
       "      <td>39.263641</td>\n",
       "    </tr>\n",
       "    <tr>\n",
       "      <th>3750</th>\n",
       "      <td>161.119995</td>\n",
       "      <td>161.410004</td>\n",
       "      <td>159.059998</td>\n",
       "      <td>161.204620</td>\n",
       "      <td>0.247276</td>\n",
       "      <td>161.800003</td>\n",
       "      <td>163.175078</td>\n",
       "    </tr>\n",
       "    <tr>\n",
       "      <th>7169</th>\n",
       "      <td>1.308214</td>\n",
       "      <td>1.318571</td>\n",
       "      <td>1.306071</td>\n",
       "      <td>1.129059</td>\n",
       "      <td>-0.255796</td>\n",
       "      <td>1.330357</td>\n",
       "      <td>1.326829</td>\n",
       "    </tr>\n",
       "    <tr>\n",
       "      <th>10135</th>\n",
       "      <td>0.563036</td>\n",
       "      <td>0.548214</td>\n",
       "      <td>0.544286</td>\n",
       "      <td>0.469422</td>\n",
       "      <td>0.273859</td>\n",
       "      <td>0.566964</td>\n",
       "      <td>0.569273</td>\n",
       "    </tr>\n",
       "    <tr>\n",
       "      <th>3626</th>\n",
       "      <td>14.274643</td>\n",
       "      <td>14.404643</td>\n",
       "      <td>14.267500</td>\n",
       "      <td>12.334327</td>\n",
       "      <td>0.617655</td>\n",
       "      <td>14.413929</td>\n",
       "      <td>14.426890</td>\n",
       "    </tr>\n",
       "  </tbody>\n",
       "</table>\n",
       "<p>3435 rows × 7 columns</p>\n",
       "</div>"
      ],
      "text/plain": [
       "             Open       Close         Low    AdjClose  Daily_Return  \\\n",
       "3508     0.310357    0.314286    0.304643    0.269115      0.248227   \n",
       "5421    24.212500   24.417500   24.160000   21.874586     -0.036975   \n",
       "4277     0.142857    0.143415    0.142857    0.112100      0.000000   \n",
       "8677     0.243304    0.245536    0.243304    0.210246      0.000000   \n",
       "3885     0.071987    0.070313    0.070313    0.054960      0.000000   \n",
       "...           ...         ...         ...         ...           ...   \n",
       "3675    39.062500   38.669998   38.527500   37.492191      0.115374   \n",
       "3750   161.119995  161.410004  159.059998  161.204620      0.247276   \n",
       "7169     1.308214    1.318571    1.306071    1.129059     -0.255796   \n",
       "10135    0.563036    0.548214    0.544286    0.469422      0.273859   \n",
       "3626    14.274643   14.404643   14.267500   12.334327      0.617655   \n",
       "\n",
       "       Actual_High  Predicted_High  \n",
       "3508      0.321429        0.322735  \n",
       "5421     24.459999       24.488506  \n",
       "4277      0.149554        0.149816  \n",
       "8677      0.252232        0.251960  \n",
       "3885      0.071987        0.077931  \n",
       "...            ...             ...  \n",
       "3675     39.532501       39.263641  \n",
       "3750    161.800003      163.175078  \n",
       "7169      1.330357        1.326829  \n",
       "10135     0.566964        0.569273  \n",
       "3626     14.413929       14.426890  \n",
       "\n",
       "[3435 rows x 7 columns]"
      ]
     },
     "execution_count": 85,
     "metadata": {},
     "output_type": "execute_result"
    }
   ],
   "source": [
    "# create new two colum for actual data and predicted data\n",
    "df['Actual_High'] = y_test\n",
    "df['Predicted_High'] = y_pred\n",
    "df"
   ]
  },
  {
   "cell_type": "code",
   "execution_count": null,
   "id": "c5b70972-5bdb-428e-b138-4ff0164383c3",
   "metadata": {},
   "outputs": [],
   "source": []
  },
  {
   "cell_type": "code",
   "execution_count": null,
   "id": "f653a40a-9825-4105-9c47-accd7f07e239",
   "metadata": {},
   "outputs": [],
   "source": []
  }
 ],
 "metadata": {
  "environment": {
   "kernel": "python3",
   "name": "tf2-gpu.2-3.m91",
   "type": "gcloud",
   "uri": "gcr.io/deeplearning-platform-release/tf2-gpu.2-3:m91"
  },
  "kernelspec": {
   "display_name": "Python 3",
   "language": "python",
   "name": "python3"
  },
  "language_info": {
   "codemirror_mode": {
    "name": "ipython",
    "version": 3
   },
   "file_extension": ".py",
   "mimetype": "text/x-python",
   "name": "python",
   "nbconvert_exporter": "python",
   "pygments_lexer": "ipython3",
   "version": "3.7.12"
  }
 },
 "nbformat": 4,
 "nbformat_minor": 5
}
